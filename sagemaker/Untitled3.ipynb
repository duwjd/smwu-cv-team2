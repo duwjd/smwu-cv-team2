{
 "cells": [
  {
   "cell_type": "code",
   "execution_count": null,
   "id": "f7200aaf",
   "metadata": {},
   "outputs": [],
   "source": [
    "!pip install tensorflow\n",
    "!pip install torch torchvision\n",
    "\n"
   ]
  },
  {
   "cell_type": "code",
   "execution_count": null,
   "id": "5ca9e43e",
   "metadata": {},
   "outputs": [],
   "source": [
    "import tensorflow as tf\n",
    "import torch\n",
    "\n",
    "print(\"TensorFlow version:\", tf.__version__)\n",
    "print(\"PyTorch version:\", torch.__version__)\n"
   ]
  },
  {
   "cell_type": "code",
   "execution_count": null,
   "id": "f469e6f1",
   "metadata": {},
   "outputs": [],
   "source": [
    "import boto3\n",
    "from torchvision import transforms\n",
    "from PIL import Image\n",
    "from torch.utils.data import Dataset, DataLoader\n",
    "from io import BytesIO\n",
    "class S3ImageDataset(Dataset):\n",
    "    def __init__(self, bucket_name, prefix, transform=None):\n",
    "        \"\"\"\n",
    "        S3 버킷에서 이미지를 로드하는 PyTorch 데이터셋 클래스.\n",
    "        Args:\n",
    "        - bucket_name: S3 버킷 이름.\n",
    "        - prefix: S3 폴더 경로 (e.g., 'your-folder/train/').\n",
    "        - transform: 이미지 전처리를 위한 torchvision.transforms 객체.\n",
    "        \"\"\"\n",
    "        self.s3 = boto3.client('s3')\n",
    "        self.bucket_name = bucket_name\n",
    "        self.prefix = prefix\n",
    "        self.transform = transform\n",
    "        self.files = self._list_files()\n",
    "    def _list_files(self):\n",
    "        \"\"\"S3 폴더 내 파일 리스트를 가져옵니다.\"\"\"\n",
    "        response = self.s3.list_objects_v2(Bucket=self.bucket_name, Prefix=self.prefix)\n",
    "        return [content['Key'] for content in response.get('Contents', []) if not content['Key'].endswith('/')]\n",
    "    def __len__(self):\n",
    "        \"\"\"데이터셋의 전체 이미지 수.\"\"\"\n",
    "        return len(self.files)\n",
    "    def __getitem__(self, idx):\n",
    "        \"\"\"지정된 인덱스의 이미지를 가져옵니다.\"\"\"\n",
    "        file_key = self.files[idx]\n",
    "        response = self.s3.get_object(Bucket=self.bucket_name, Key=file_key)\n",
    "        image_data = response['Body'].read()\n",
    "        image = Image.open(BytesIO(image_data)).convert('RGB')  # 이미지 열기\n",
    "        if self.transform:\n",
    "            image = self.transform(image)\n",
    "        # 클래스 레이블 추출 (폴더 이름에서 추출)\n",
    "        label = 0 if \"NG/\" in file_key else 1  # NG -> 0, OK -> 1\n",
    "        return image, label"
   ]
  },
  {
   "cell_type": "code",
   "execution_count": null,
   "id": "02dd00fd",
   "metadata": {},
   "outputs": [],
   "source": [
    "# 이미지 전처리 파이프라인 정의\n",
    "transform = transforms.Compose([\n",
    "    transforms.Resize((224, 224)),  # ResNet에 맞게 크기 조정\n",
    "    transforms.ToTensor(),         # Tensor로 변환\n",
    "    transforms.Normalize(mean=[0.485, 0.456, 0.406], std=[0.229, 0.224, 0.225])  # ImageNet 정규화\n",
    "])\n",
    "# S3 데이터셋 생성\n",
    "bucket_name = 'smwu-cv-team-2-s3'\n",
    "train_prefix = 'preprocessed-data/origin_split/train/'  # S3 폴더 경로\n",
    "train_dataset = S3ImageDataset(bucket_name=bucket_name, prefix=train_prefix, transform=transform)\n",
    "# DataLoader 생성\n",
    "train_loader = DataLoader(train_dataset, batch_size=32, shuffle=True)"
   ]
  },
  {
   "cell_type": "code",
   "execution_count": null,
   "id": "adc60d53",
   "metadata": {},
   "outputs": [],
   "source": [
    "# 테스트 데이터 경로\n",
    "test_prefix = 'preprocessed-data/origin_split/test/'\n",
    "# S3에서 테스트 데이터셋 생성\n",
    "test_dataset = S3ImageDataset(bucket_name=bucket_name, prefix=test_prefix, transform=transform)\n",
    "# DataLoader 생성\n",
    "test_loader = DataLoader(test_dataset, batch_size=32, shuffle=False)\n",
    "6:49\n",
    "val_prefix = 'preprocessed-data/origin_split/valid/'  # S3에 Validation 데이터 경로\n",
    "val_dataset = S3ImageDataset(bucket_name=bucket_name, prefix=val_prefix, transform=transform)\n",
    "val_loader = DataLoader(val_dataset, batch_size=32, shuffle=False)"
   ]
  },
  {
   "cell_type": "code",
   "execution_count": null,
   "id": "908da8e4",
   "metadata": {},
   "outputs": [],
   "source": []
  },
  {
   "cell_type": "code",
   "execution_count": null,
   "id": "84fac02e",
   "metadata": {},
   "outputs": [],
   "source": []
  }
 ],
 "metadata": {
  "kernelspec": {
   "display_name": "conda_python3",
   "language": "python",
   "name": "conda_python3"
  },
  "language_info": {
   "codemirror_mode": {
    "name": "ipython",
    "version": 3
   },
   "file_extension": ".py",
   "mimetype": "text/x-python",
   "name": "python",
   "nbconvert_exporter": "python",
   "pygments_lexer": "ipython3",
   "version": "3.10.15"
  }
 },
 "nbformat": 4,
 "nbformat_minor": 5
}
