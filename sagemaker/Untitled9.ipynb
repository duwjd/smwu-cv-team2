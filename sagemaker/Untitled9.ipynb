{
 "cells": [
  {
   "cell_type": "code",
   "execution_count": 4,
   "id": "77eee215-2de2-478c-ad74-808b7f6c29a1",
   "metadata": {
    "tags": []
   },
   "outputs": [],
   "source": [
    "import torch\n",
    "from torchvision import models, transforms\n",
    "from PIL import Image\n",
    "import json\n",
    "import base64\n",
    "from io import BytesIO\n",
    "\n",
    "\n",
    "def model_fn(model_dir):\n",
    "    # 모델 파일 경로 설정\n",
    "    model_path = f\"{model_dir}/best_model_34.pth\"\n",
    "    print(f\"Loading model from: {model_path}\")\n",
    "\n",
    "    try:\n",
    "        # GPU가 있는지 확인\n",
    "        if torch.cuda.is_available():\n",
    "            device = torch.device(\"cuda\")\n",
    "            print(f\"Model will run on GPU: {torch.cuda.get_device_name(0)}\")\n",
    "        else:\n",
    "            device = torch.device(\"cpu\")\n",
    "            print(\"No GPU available. Model will run on CPU.\")\n",
    "\n",
    "        model = models.resnet34(pretrained=False)\n",
    "        model.fc = torch.nn.Linear(model.fc.in_features, 2)  # 클래스 개수: 2개\n",
    "\n",
    "        # 학습된 가중치 로드 (디바이스에 맞게 로드)\n",
    "        model.load_state_dict(torch.load(model_path, map_location=device))\n",
    "        model.to(device)  # 모델을 디바이스로 이동\n",
    "        model.eval()  # 평가 모드로 설정\n",
    "        print(\"Model loaded successfully.\")\n",
    "        return model\n",
    "    except Exception as e:\n",
    "        print(f\"Error loading model: {e}\")\n",
    "        raise e"
   ]
  },
  {
   "cell_type": "code",
   "execution_count": 5,
   "id": "b1191e3d-045b-44dc-b646-871aaebcf43a",
   "metadata": {
    "tags": []
   },
   "outputs": [
    {
     "name": "stdout",
     "output_type": "stream",
     "text": [
      "Loading model from: .//best_model_34.pth\n",
      "Model will run on GPU: Tesla T4\n"
     ]
    },
    {
     "name": "stderr",
     "output_type": "stream",
     "text": [
      "/home/ec2-user/anaconda3/envs/pytorch_p310/lib/python3.10/site-packages/torchvision/models/_utils.py:208: UserWarning: The parameter 'pretrained' is deprecated since 0.13 and may be removed in the future, please use 'weights' instead.\n",
      "  warnings.warn(\n",
      "/home/ec2-user/anaconda3/envs/pytorch_p310/lib/python3.10/site-packages/torchvision/models/_utils.py:223: UserWarning: Arguments other than a weight enum or `None` for 'weights' are deprecated since 0.13 and may be removed in the future. The current behavior is equivalent to passing `weights=None`.\n",
      "  warnings.warn(msg)\n"
     ]
    },
    {
     "name": "stdout",
     "output_type": "stream",
     "text": [
      "Model loaded successfully.\n"
     ]
    }
   ],
   "source": [
    "model = model_fn('./')  # `best_model_34.pth` 파일이 있는 로컬 디렉토리에서 실행"
   ]
  },
  {
   "cell_type": "code",
   "execution_count": 6,
   "id": "3e48b6a0-c6b1-46b4-9f3e-81a3fe7e2c3e",
   "metadata": {
    "tags": []
   },
   "outputs": [
    {
     "name": "stdout",
     "output_type": "stream",
     "text": [
      "Loading model from: .//best_model_34.pth\n",
      "Model will run on GPU: Tesla T4\n",
      "Model loaded successfully.\n",
      "Model loading time: 0.43827223777770996 seconds\n"
     ]
    }
   ],
   "source": [
    "import time\n",
    "\n",
    "start_time = time.time()\n",
    "model = model_fn('./')\n",
    "print(f\"Model loading time: {time.time() - start_time} seconds\")"
   ]
  },
  {
   "cell_type": "code",
   "execution_count": 10,
   "id": "af6956bb-03b7-4283-9416-9a34a9782070",
   "metadata": {
    "tags": []
   },
   "outputs": [],
   "source": [
    "def input_fn(request_body, request_content_type):\n",
    "    \"\"\"\n",
    "    SageMaker가 호출하는 입력 데이터 처리 함수\n",
    "    \"\"\"\n",
    "    if request_content_type == \"application/json\":\n",
    "        # JSON 데이터에서 이미지 경로 추출\n",
    "        input_data = json.loads(request_body)\n",
    "        #인코딩된 이미지데이터 디코딩\n",
    "        image_data = base64.b64decode(input_data[\"image\"])\n",
    "        #디코딩된 데이터 PIllow이미지로 변환\n",
    "        image = Image.open(BytesIO(image_data)).convert(\"RGB\")\n",
    "        return image\n",
    "    else:\n",
    "        raise ValueError(f\"Unsupported content type: {request_content_type}\")"
   ]
  },
  {
   "cell_type": "code",
   "execution_count": 11,
   "id": "ecfbc3a2-ee78-4983-9de3-52a324d2ea27",
   "metadata": {
    "tags": []
   },
   "outputs": [
    {
     "name": "stdout",
     "output_type": "stream",
     "text": [
      "Loading model from: .//best_model_34.pth\n",
      "Model will run on GPU: Tesla T4\n",
      "Model loaded successfully.\n"
     ]
    }
   ],
   "source": [
    "# 모델 로드\n",
    "model = model_fn('./')\n",
    "\n",
    "# 테스트 입력 데이터 (Base64 인코딩된 JSON 파일을 생성한 경우)\n",
    "with open('sample.json', 'r') as f:\n",
    "    input_data = f.read()\n",
    "\n",
    "# 입력 처리\n",
    "image = input_fn(input_data, \"application/json\")"
   ]
  },
  {
   "cell_type": "code",
   "execution_count": 17,
   "id": "433813a5-90c0-421d-b9ec-c9dc050adeaa",
   "metadata": {
    "tags": []
   },
   "outputs": [],
   "source": [
    "def predict_fn(input_data, model):\n",
    "    \"\"\"\n",
    "    SageMaker가 호출하는 추론 함수\n",
    "    \"\"\"\n",
    "    # 데이터 전처리\n",
    "    preprocess = transforms.Compose([\n",
    "        transforms.Resize((224, 224)),  # ResNet 입력 크기로 조정\n",
    "        transforms.ToTensor(),\n",
    "        transforms.Normalize(mean=[0.485, 0.456, 0.406], std=[0.229, 0.224, 0.225]),\n",
    "    ])\n",
    "\n",
    "    # 전처리\n",
    "    image_tensor = preprocess(input_data).unsqueeze(0)  # 배치 차원 추가\n",
    "\n",
    "    # 모델과 동일한 디바이스로 이동\n",
    "    device = next(model.parameters()).device\n",
    "    image_tensor = image_tensor.to(device)\n",
    "\n",
    "    # 모델 추론\n",
    "    with torch.no_grad():\n",
    "        outputs = model(image_tensor)\n",
    "        _, predicted = torch.max(outputs, 1)  # 가장 높은 확률의 클래스 반환\n",
    "    return predicted.item()\n"
   ]
  },
  {
   "cell_type": "code",
   "execution_count": 18,
   "id": "0f18ed3f-d181-48fd-b43f-71bf6b696f29",
   "metadata": {
    "tags": []
   },
   "outputs": [],
   "source": [
    "# 추론\n",
    "result = predict_fn(image, model)"
   ]
  },
  {
   "cell_type": "code",
   "execution_count": 19,
   "id": "45358b4e-b7db-4060-9342-febf498b5f80",
   "metadata": {
    "tags": []
   },
   "outputs": [],
   "source": [
    "\n",
    "def output_fn(prediction, response_content_type):\n",
    "    \"\"\"\n",
    "    SageMaker가 호출하는 출력 데이터 포맷팅 함수\n",
    "    \"\"\"\n",
    "    if response_content_type == \"application/json\":\n",
    "        \n",
    "        result = \"OK\" if prediction == 1 else \"NG\"\n",
    "        \n",
    "        return json.dumps({\"result\": result})  # JSON 형식으로 결과 반환\n",
    "    else:\n",
    "        raise ValueError(f\"Unsupported response content type: {response_content_type}\")\n"
   ]
  },
  {
   "cell_type": "code",
   "execution_count": null,
   "id": "b08edc99-d5cd-4c45-8ef7-fa868e0186da",
   "metadata": {},
   "outputs": [],
   "source": []
  }
 ],
 "metadata": {
  "kernelspec": {
   "display_name": "conda_pytorch_p310",
   "language": "python",
   "name": "conda_pytorch_p310"
  },
  "language_info": {
   "codemirror_mode": {
    "name": "ipython",
    "version": 3
   },
   "file_extension": ".py",
   "mimetype": "text/x-python",
   "name": "python",
   "nbconvert_exporter": "python",
   "pygments_lexer": "ipython3",
   "version": "3.10.14"
  }
 },
 "nbformat": 4,
 "nbformat_minor": 5
}
