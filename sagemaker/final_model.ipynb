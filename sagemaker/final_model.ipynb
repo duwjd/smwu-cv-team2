{
 "cells": [
  {
   "cell_type": "code",
   "execution_count": null,
   "id": "17552895",
   "metadata": {},
   "outputs": [],
   "source": [
    "import sagemaker\n",
    "\n",
    "from sagemaker import get_execution_role # sagemaker가 필요 권한을 가져오는 함수"
   ]
  },
  {
   "cell_type": "code",
   "execution_count": null,
   "id": "e1caa929",
   "metadata": {},
   "outputs": [],
   "source": [
    "# 모델 코드\n",
    "모델객체명 = sagemaker.LinearLearner(role = get_execution_role(),\n",
    "                                 instance_count = 1,\n",
    "                                 instance_type = 'ml.m5.xlarge',\n",
    "                                 predictor_type='regressor',\n",
    "                                 sagemaker_session=sagemaker.Session())\n",
    "\n",
    "# LinearLearner가 요구하는 입력 형식(training input)인 RecordIO-wrapped Protobuf형으로 변환\n",
    "# linear.record_set 함수가 자동으로 형 변환\n",
    "train_data_records = \n",
    "\n",
    "# 모델 훈련 시작\n",
    "모델객체명.fit(train_data_records)"
   ]
  },
  {
   "cell_type": "code",
   "execution_count": null,
   "id": "8b7aa67b",
   "metadata": {},
   "outputs": [],
   "source": [
    "predictor = 모델객체명.deploy(\n",
    "    initial_instance_count=1, \n",
    "    instance_type='ml.g4dn.2xlarge', \n",
    "    endpoint_name='smwu-cv-team2-endpoint')"
   ]
  }
 ],
 "metadata": {
  "kernelspec": {
   "display_name": "conda_python3",
   "language": "python",
   "name": "conda_python3"
  },
  "language_info": {
   "codemirror_mode": {
    "name": "ipython",
    "version": 3
   },
   "file_extension": ".py",
   "mimetype": "text/x-python",
   "name": "python",
   "nbconvert_exporter": "python",
   "pygments_lexer": "ipython3",
   "version": "3.10.15"
  }
 },
 "nbformat": 4,
 "nbformat_minor": 5
}
